{
  "cells": [
    {
      "metadata": {
        "trusted": true,
        "_uuid": "6039cc94371e0b283ac4a0061d2baff499e7711b"
      },
      "cell_type": "code",
      "source": "import numpy as np\nimport pandas as pd\nimport gc",
      "execution_count": null,
      "outputs": []
    },
    {
      "metadata": {
        "_uuid": "8f2839f25d086af736a60e9eeb907d3b93b6e0e5",
        "_cell_guid": "b1076dfc-b9ad-4769-8c92-a6c4dae69d19",
        "trusted": true
      },
      "cell_type": "code",
      "source": "from kaggle.competitions import twosigmanews\n# You can only call make_env() once, so don't lose it!\nenv = twosigmanews.make_env()",
      "execution_count": null,
      "outputs": []
    },
    {
      "metadata": {
        "trusted": true,
        "_uuid": "c20fa6deeac9d374c98774abd90bdc76b023ee63"
      },
      "cell_type": "code",
      "source": "(market_train_df, news_train_df) = env.get_training_data()",
      "execution_count": null,
      "outputs": []
    },
    {
      "metadata": {
        "_uuid": "a79fe114f2b3a52d387e93ab69490694ee494602"
      },
      "cell_type": "markdown",
      "source": "## Functions for data processing."
    },
    {
      "metadata": {
        "trusted": true,
        "_uuid": "2ea139ebe858d5d9baef015335dc93c9e96f89c2"
      },
      "cell_type": "code",
      "source": "### Process market data.\ndef market_process(market_train_df):\n    \n    market_train_df['time'] = market_train_df.time.dt.date\n    market_train_df['bartrend'] = market_train_df['close'] / market_train_df['open']\n    market_train_df['average'] = (market_train_df['close'] + market_train_df['open'])/2\n    market_train_df['pricevolume'] = market_train_df['volume'] * market_train_df['close']\n    \n    # drop nans or not?\n    #market_train_df.dropna(axis=0, inplace=True)\n    market_train_df.drop('assetName', axis=1, inplace=True)\n\n    # Set datatype to float32 to save space\n    float_cols = {c: 'float32' for c in market_train_df.columns if c not in ['assetCode', 'time']}\n    \n    return market_train_df.astype(float_cols)\n\n### process news data.\ndef news_process(news_train_df):\n    \n    news_train_df['time'] = news_train_df.time.dt.date\n    news_train_df['position'] = news_train_df['firstMentionSentence'] / news_train_df['sentenceCount']\n    news_train_df['coverage'] = news_train_df['sentimentWordCount'] / news_train_df['wordCount']\n    droplist = ['sourceTimestamp','firstCreated','sourceId','headline','takeSequence','provider',\n            'firstMentionSentence','headlineTag','marketCommentary','subjects','audiences',\n            'assetName','noveltyCount12H','noveltyCount24H','noveltyCount3D','noveltyCount5D',\n            'noveltyCount7D','urgency','sentimentClass']\n    news_train_df.drop(droplist, axis=1, inplace=True)\n    \n    # Remove {} and '' from assetCodes column\n    news_train_df['assetCodes'] = news_train_df['assetCodes'].apply(lambda x: x[1:-1].replace(\"'\", \"\"))\n    return news_train_df\n\n## Unstack assetCodes.\ndef unstack_asset_codes(news_train_df):\n    codes = []\n    indexes = []\n    for i, values in news_train_df['assetCodes'].iteritems():\n        explode = values.split(\", \")\n        codes.extend(explode)\n        repeat_index = [int(i)]*len(explode)\n        indexes.extend(repeat_index)\n    index_df = pd.DataFrame({'news_index': indexes, 'assetCode': codes})\n    del codes, indexes\n    gc.collect()\n    return index_df\n\n## Merge news on index\ndef merge_news_on_index(news_train_df, index_df):\n    news_train_df['news_index'] = news_train_df.index.copy()\n\n    # Merge news on unstacked assets\n    news_unstack_df = index_df.merge(news_train_df, how='left', on='news_index')\n    news_unstack_df.drop(['news_index', 'assetCodes'], axis=1, inplace=True)\n    return news_unstack_df\n\n## Comine multiple news reports for same assets on same day.\ndef group_news(news_frame):\n    \n    aggregations = ['mean']\n    gp = news_frame.groupby(['assetCode', 'time']).agg(aggregations)\n    gp.columns = pd.Index([\"{}_{}\".format(e[0], e[1]) for e in gp.columns.tolist()])\n    gp.reset_index(inplace=True)\n    # Set datatype to float32\n    float_cols = {c: 'float32' for c in gp.columns if c not in ['assetCode', 'time']}\n    return gp.astype(float_cols)\n\n### Merge market and news data\ndef merge(market_train_df,news_agg_df):\n    \n    df = market_train_df.merge(news_agg_df, how='left', on=['time','assetCode'])\n    # drop nans or not?\n    #df.dropna(axis=0, inplace=True)\n    \n    del market_train_df, news_agg_df\n    return df\n",
      "execution_count": null,
      "outputs": []
    },
    {
      "metadata": {
        "_uuid": "477ba549b5c9e58e9f5b3fa933d4388c38d399b2"
      },
      "cell_type": "markdown",
      "source": "## Data processing."
    },
    {
      "metadata": {
        "trusted": true,
        "_uuid": "3bed5340649ec99a0c60ad6c6723657bbc8a1dd3"
      },
      "cell_type": "code",
      "source": "## Market\nmarket_train_df = market_process(market_train_df)\ngc.collect()\n#market_train_df.shape # (4072956, 19) dropnans(3979902, 15)\n\n## News\nnews_train_df = news_process(news_train_df)\nindex_df = unstack_asset_codes(news_train_df)\nnews_unstack_df = merge_news_on_index(news_train_df, index_df) #news_unstack_df.shape #(18821885, 23)\ndel news_train_df, index_df\nnews_agg_df = group_news(news_unstack_df) #news_agg_df.shape #((3839367, 23))\ndel news_unstack_df\n\n## Merge\ndf = merge(market_train_df,news_agg_df) #df.shape # (4072956, 35) dropnans(1121521, 36)\ngc.collect()\ndf.head(3)",
      "execution_count": null,
      "outputs": []
    },
    {
      "metadata": {
        "_uuid": "3059e629b8036196a12bfb15e94b5724eb0bd58d"
      },
      "cell_type": "markdown",
      "source": "## Prepare for training."
    },
    {
      "metadata": {
        "trusted": true,
        "_uuid": "36271b1927461f43653ffd2cf6415095c1aa27e6"
      },
      "cell_type": "code",
      "source": "df.dropna(axis=0, inplace=True)\n# df.shape #(1121521, __)\n\n# extract useful data.\ndates = df.time\nnum_target = df.returnsOpenNextMktres10.astype('float32')\nbin_target = (df.returnsOpenNextMktres10 >= 0).astype('int8')\nuniverse = df.universe.astype('int8')\n\n# Drop columns that are not features\ndf.drop(['returnsOpenNextMktres10', 'universe', 'assetCode', 'time'], axis=1, inplace=True)\ngc.collect()\ndf.head(3)\n# df.shape #(1121521, 30)",
      "execution_count": null,
      "outputs": []
    },
    {
      "metadata": {
        "trusted": true,
        "_uuid": "02aeb53795ec55d49a056b61c725ade6b06fe83e"
      },
      "cell_type": "code",
      "source": "from sklearn import *\nfrom lightgbm import LGBMClassifier\nimport time\nfrom sklearn.metrics import accuracy_score\nfrom sklearn.metrics import roc_auc_score\nfrom sklearn.metrics import confusion_matrix",
      "execution_count": null,
      "outputs": []
    },
    {
      "metadata": {
        "_uuid": "663a7e011294324024e40b32f69feb51e64908b1"
      },
      "cell_type": "markdown",
      "source": "Split into train and testing (3:1)."
    },
    {
      "metadata": {
        "trusted": true,
        "_uuid": "684a8d52c17a9ead5232a80c2ab52e57b6b3a357"
      },
      "cell_type": "code",
      "source": "train_index, test_index = model_selection.train_test_split(df.index.values, test_size=0.25, \n                                                           random_state = 11)",
      "execution_count": null,
      "outputs": []
    },
    {
      "metadata": {
        "_uuid": "a169f6f91077cd12cf36363147fda906b4e33aae"
      },
      "cell_type": "markdown",
      "source": "Tuning parameters using validation set. "
    },
    {
      "metadata": {
        "trusted": true,
        "_uuid": "5e2815868e0d9608ef91dadca2bffac242cf4ca1"
      },
      "cell_type": "code",
      "source": "# train_index2, val_index = model_selection.train_test_split(train_index, test_size=0.25, \n#                                                            random_state = 11)",
      "execution_count": null,
      "outputs": []
    },
    {
      "metadata": {
        "trusted": true,
        "_uuid": "075a1634e0278db018c03b4ef7bd5e1b5eeee118"
      },
      "cell_type": "code",
      "source": "# def evaluate_model(df, target, train_index, val_index, params):\n#     model = LGBMClassifier(objective ='binary',\n#                            boosting ='gbdt', #dart\n#                            n_jobs = 4,\n#                            max_depth = 8,\n#                            num_iterations = 200,\n#                            learning_rate = 0.05,\n#                            **params)\n#     model.fit(df.loc[train_index],bin_target.loc[train_index])\n#     return metrics.log_loss(target.loc[val_index], \n#                             model.predict_proba(df.loc[val_index]))",
      "execution_count": null,
      "outputs": []
    },
    {
      "metadata": {
        "trusted": true,
        "_uuid": "4cdda248361f72299eb1f9c68031431e174522eb"
      },
      "cell_type": "code",
      "source": "# param_grid = {\n#     'num_leaves': [60, 80],\n#     'n_estimators': [200, 400], #default class*iteration=2*100\n#     'bagging_freq': 5,\n#     'bagging_fraction' : [0.8, 0.9],  # subsample\n#     'feature_fraction' : [0.8, 0.9]  # colsample_bytree\n#     #'reg_alpha': [0.2, 0.6, 0.8],\n#     #'reg_lambda': [0.4, 0.6, 0.8]\n# }\n\n# print('Tuning begins...')\n# best_eval_score = 0\n# for i in range(50):\n#     params = {k: np.random.choice(v) for k, v in param_grid.items()}\n#     score = evaluate_model(df, bin_target, train_index2, val_index, params)\n#     if score < best_eval_score or best_eval_score == 0:\n#         best_eval_score = score\n#         best_params = params\n# print(\"Best evaluation logloss\", best_eval_score)",
      "execution_count": null,
      "outputs": []
    },
    {
      "metadata": {
        "trusted": true,
        "_uuid": "da818b8742cf6c2fc48e2f11aa565a1938c65453"
      },
      "cell_type": "code",
      "source": "## best parameters found.\nlgb = LGBMClassifier(\n    objective='binary',\n    boosting='gbdt',\n    learning_rate = 0.05,\n    max_depth = 8,\n    num_leaves = 80,\n    n_estimators = 400,\n    bagging_fraction = 0.8,\n    feature_fraction = 0.9)\n    #reg_alpha = 0.2,\n    #reg_lambda = 0.4)",
      "execution_count": null,
      "outputs": []
    },
    {
      "metadata": {
        "trusted": true,
        "_uuid": "5f1e56638756710365a75c0d00b7522f88e9e54c"
      },
      "cell_type": "code",
      "source": "t = time.time()\nprint('Fitting Up')\nlgb.fit(df.loc[train_index],bin_target.loc[train_index])\nprint('Done')\nprint(f'Done, time = {time.time() - t}')",
      "execution_count": null,
      "outputs": []
    },
    {
      "metadata": {
        "trusted": true,
        "_uuid": "a6a9f54a72fb8890b650fd466ddf0a9c697dceef"
      },
      "cell_type": "code",
      "source": "print(\"lgb accuracy : %f\" % \\\n      accuracy_score(lgb.predict(df.loc[test_index]),\n                     bin_target.loc[test_index]))\nprint(\"lgb AUC : %f\" % \\\n      roc_auc_score(bin_target.loc[test_index].values,\n                    lgb.predict_proba(df.loc[test_index])[:, 1]))",
      "execution_count": null,
      "outputs": []
    },
    {
      "metadata": {
        "trusted": true,
        "_uuid": "3f3d2914a50e13628e6f5372e7109a3365eb06ce"
      },
      "cell_type": "code",
      "source": "import matplotlib.pyplot as plt\nfrom mlxtend.evaluate import confusion_matrix\nfrom mlxtend.plotting import plot_confusion_matrix\nimport seaborn as sns\n%matplotlib inline\n\nimport matplotlib as mpl\nmpl.rcParams['axes.titlesize'] = 20\nmpl.rcParams['axes.labelsize'] = 16\nmpl.rcParams['xtick.labelsize'] = 16\nmpl.rcParams['ytick.labelsize'] = 16",
      "execution_count": null,
      "outputs": []
    },
    {
      "metadata": {
        "_uuid": "2858ea99ef3a144db81329236faeed6bf11398a2"
      },
      "cell_type": "markdown",
      "source": "Prediction confidence distribution."
    },
    {
      "metadata": {
        "trusted": true,
        "_uuid": "28c779aa23dd0b44d223d35f405ea41b43de595b"
      },
      "cell_type": "code",
      "source": "#sample5000 = np.random.choice(test_index, size=5000)\n#plt.hist(num_target.loc[sample5000].values.clip(-1,1), bins='auto', alpha=0.3)\nplt.hist(lgb.predict_proba(df.loc[test_index])[:, 1]*2-1, bins='auto', alpha=0.3, color='darkorange')\n#plt.legend(['Ground truth', 'Predicted'])\nplt.xlabel(\"Confidence\")\nplt.ylabel(\"Count\")\nplt.title(\"predicted confidence\")\nplt.show()",
      "execution_count": null,
      "outputs": []
    },
    {
      "metadata": {
        "_uuid": "e30f8ee33f18e2861311264d9677da5d7b8e1707"
      },
      "cell_type": "markdown",
      "source": "Confusion matrix."
    },
    {
      "metadata": {
        "trusted": true,
        "_uuid": "eae8324e20966235f5e6e803d7b7195e7793e2f0"
      },
      "cell_type": "code",
      "source": "\ncfm = confusion_matrix(y_target=np.array(bin_target.loc[test_index]), \n                       y_predicted=lgb.predict(df.loc[test_index]).tolist())\nfig, ax = plot_confusion_matrix(conf_mat=cfm)\nplt.show()\n",
      "execution_count": null,
      "outputs": []
    },
    {
      "metadata": {
        "_uuid": "04fa5f6f70b3e23e2d381d954fe08264239f21de"
      },
      "cell_type": "markdown",
      "source": "The feature importance in lgb (default) is measured by the numbers of times the feature is used in a model."
    },
    {
      "metadata": {
        "trusted": true,
        "_uuid": "46728c156071939cbb3fcf791dcb51f6c8fb0bf8"
      },
      "cell_type": "code",
      "source": "feat_importance = pd.DataFrame()\nfeat_importance[\"feature\"] = df.columns\nfeat_importance[\"value\"] = lgb.feature_importances_\nfeat_importance.sort_values(by='value', ascending=False, inplace=True)\n\nplt.figure(figsize=(8,10))\nax = sns.barplot(y=\"feature\", x=\"value\", data=feat_importance)",
      "execution_count": null,
      "outputs": []
    },
    {
      "metadata": {
        "_uuid": "fc2a94170fc37a0e021b42bc3462cae437b047e6"
      },
      "cell_type": "markdown",
      "source": "## Competition prediction"
    },
    {
      "metadata": {
        "trusted": true,
        "_uuid": "724c38149860c8e9058474ac9045c2301e8a20da"
      },
      "cell_type": "code",
      "source": "# You can only iterate through a result from `get_prediction_days()` once\n# so be careful not to lose it once you start iterating.\ndays = env.get_prediction_days()",
      "execution_count": null,
      "outputs": []
    },
    {
      "metadata": {
        "trusted": true,
        "_uuid": "158e47f91bbfa14da6113ebb929f926207c8c4b9"
      },
      "cell_type": "code",
      "source": "n_days = 0\n\nfor (market_obs_df, news_obs_df, predictions_template_df) in days:\n    n_days += 1\n    print(n_days,end=' ')\n    \n    # process market data\n    market_obs_df = market_process(market_obs_df)\n    \n    # process news data\n    news_obs_df = news_process(news_obs_df)\n    index_df = unstack_asset_codes(news_obs_df)\n    news_unstack = merge_news_on_index(news_obs_df, index_df)\n    news_obs_agg = group_news(news_unstack)\n\n    # merge\n    obs_df = merge(market_obs_df,news_obs_agg)\n    del market_obs_df, news_obs_agg, news_obs_df, news_unstack, index_df\n    gc.collect()\n    obs_df = obs_df[obs_df.assetCode.isin(predictions_template_df.assetCode)]\n\n    # Drop cols that are not features\n    feats = [c for c in obs_df.columns if c not in ['assetCode', 'time']]\n\n    #t = time.time()\n    preds = lgb.predict_proba(obs_df[feats])[:, 1] * 2 - 1\n    sub = pd.DataFrame({'assetCode': obs_df['assetCode'], 'confidence': preds})\n    predictions_template_df = predictions_template_df.merge(sub, how='left').drop(\n        'confidenceValue', axis=1).fillna(0).rename(columns={'confidence':'confidenceValue'})\n\n    env.predict(predictions_template_df)\n    del obs_df, predictions_template_df, preds, sub\n    gc.collect()\n",
      "execution_count": null,
      "outputs": []
    },
    {
      "metadata": {
        "trusted": true,
        "_uuid": "3f68dc90f561f6de206b120597ee702e49693ea6"
      },
      "cell_type": "code",
      "source": "env.write_submission_file()",
      "execution_count": null,
      "outputs": []
    },
    {
      "metadata": {
        "trusted": true,
        "_uuid": "8bd723a1f9d3d88eefc0d74fc38c1b1ab5c840da"
      },
      "cell_type": "code",
      "source": "# We've got a submission file!\nimport os\nprint([filename for filename in os.listdir('.') if '.csv' in filename])",
      "execution_count": null,
      "outputs": []
    },
    {
      "metadata": {
        "_uuid": "ee5196e5b20b4fce1655141b0024b1a2bd7159f1"
      },
      "cell_type": "markdown",
      "source": "## Competition results visualization"
    },
    {
      "metadata": {
        "trusted": true,
        "_uuid": "297f21c0607198cd8f9a166a3c251aaa374f6104"
      },
      "cell_type": "code",
      "source": "df_competition  = pd.read_csv('submission.csv')\ndf_competition.head(3)",
      "execution_count": null,
      "outputs": []
    },
    {
      "metadata": {
        "trusted": true,
        "_uuid": "a38f52e165017f0cd3eb53f86096b1371e090d34"
      },
      "cell_type": "code",
      "source": "plt.hist(df_competition.confidenceValue, bins='auto', alpha=0.3, color='green')\n#plt.legend(['Ground truth', 'Predicted'])\nplt.xlabel(\"Confidence\")\nplt.ylabel(\"Count\")\nplt.title(\"predicted confidence for scoring data\")\nplt.show()",
      "execution_count": null,
      "outputs": []
    },
    {
      "metadata": {
        "_uuid": "2e3a267ea3149403c49ff59515a1a669ca2d1f9f"
      },
      "cell_type": "markdown",
      "source": "## Restart the Kernel to run your code again\nIn order to combat cheating, you are only allowed to call `make_env` or iterate through `get_prediction_days` once per Kernel run.  However, while you're iterating on your model it's reasonable to try something out, change the model a bit, and try it again.  Unfortunately, if you try to simply re-run the code, or even refresh the browser page, you'll still be running on the same Kernel execution session you had been running before, and the `twosigmanews` module will still throw errors.  To get around this, you need to explicitly restart your Kernel execution session, which you can do by pressing the Restart button in the Kernel Editor's bottom Console tab:\n![Restart button](https://i.imgur.com/hudu8jF.png)"
    }
  ],
  "metadata": {
    "kernelspec": {
      "display_name": "Python 3",
      "language": "python",
      "name": "python3"
    },
    "language_info": {
      "name": "python",
      "version": "3.6.6",
      "mimetype": "text/x-python",
      "codemirror_mode": {
        "name": "ipython",
        "version": 3
      },
      "pygments_lexer": "ipython3",
      "nbconvert_exporter": "python",
      "file_extension": ".py"
    }
  },
  "nbformat": 4,
  "nbformat_minor": 1
}